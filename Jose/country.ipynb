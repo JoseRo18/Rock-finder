{
 "cells": [
  {
   "cell_type": "code",
   "execution_count": null,
   "id": "94ba9ae1",
   "metadata": {
    "vscode": {
     "languageId": "plaintext"
    }
   },
   "outputs": [],
   "source": [
    "Getting the country"
   ]
  },
  {
   "cell_type": "code",
   "execution_count": null,
   "id": "5d169a95",
   "metadata": {
    "vscode": {
     "languageId": "plaintext"
    }
   },
   "outputs": [],
   "source": [
    "#Big query \n",
    "!pip install --upgrade google-cloud-bigquery\n",
    "from google.colab import auth\n",
    "auth.authenticate_user()\n",
    "from google.cloud import bigquery"
   ]
  },
  {
   "cell_type": "code",
   "execution_count": null,
   "id": "a3d1c58d",
   "metadata": {
    "vscode": {
     "languageId": "plaintext"
    }
   },
   "outputs": [],
   "source": [
    "# Set project ID\n",
    "project_id = \"rock-finder-project\"\n",
    "client = bigquery.Client(project=project_id)"
   ]
  },
  {
   "cell_type": "code",
   "execution_count": null,
   "id": "ac1099d0",
   "metadata": {
    "vscode": {
     "languageId": "plaintext"
    }
   },
   "outputs": [],
   "source": [
    "#GETTING THE DF FROM BIG QUERY\n",
    "query = \"\"\"\n",
    "SELECT * FROM `rock-finder-project.routes.mp_routes`\n",
    "\"\"\"\n",
    "df = client.query(query).to_dataframe()"
   ]
  },
  {
   "cell_type": "code",
   "execution_count": null,
   "id": "25cb4c3b",
   "metadata": {
    "vscode": {
     "languageId": "plaintext"
    }
   },
   "outputs": [],
   "source": [
    "# Download zipfile on your computer and upload it to colab folder\n",
    "# https://www.naturalearthdata.com/http//www.naturalearthdata.com/download/50m/cultural/ne_50m_admin_0_countries.zip\n",
    "\n",
    "#!unzip ne_50m_admin_0_countries.zip -d ne_countries  #UNCOMMENT FOR UNZIP ONLY\n",
    "\n",
    "from shapely.geometry import Point\n",
    "\n",
    "geometry = [Point(xy) for xy in zip(df['Area Longitude'], df['Area Latitude'])]\n",
    "gdf_points = gpd.GeoDataFrame(df, geometry=geometry, crs=\"EPSG:4326\")\n",
    "\n",
    "world = gpd.read_file(\"ne_countries/ne_50m_admin_0_countries.shp\")\n",
    "\n",
    "joined = gpd.sjoin(gdf_points, world[['ADMIN', 'geometry']], how='left', predicate='within')"
   ]
  },
  {
   "cell_type": "code",
   "execution_count": null,
   "id": "db440a13",
   "metadata": {
    "vscode": {
     "languageId": "plaintext"
    }
   },
   "outputs": [],
   "source": [
    "#Check for missing values\n",
    "joined[joined[\"ADMIN\"].isna()]"
   ]
  },
  {
   "cell_type": "code",
   "execution_count": null,
   "id": "af647f23",
   "metadata": {
    "vscode": {
     "languageId": "plaintext"
    }
   },
   "outputs": [],
   "source": [
    "# Implementing reverse geocoding method\n",
    "import requests\n",
    "def reverse_geocode(lat, lon):\n",
    "\n",
    "  params = {\n",
    "    'lat': lat,\n",
    "    'lon': lon,\n",
    "    'format': 'json',\n",
    "  }\n",
    "\n",
    "  headers = {\n",
    "    'User-Agent': 'GeoChecker/1.0 (josedaro186@gmail.com)'\n",
    "  }\n",
    "\n",
    "  response = requests.get(\"https://nominatim.openstreetmap.org/reverse\", params=params, headers=headers)\n",
    "  data = response.json()\n",
    "  try:\n",
    "    country = data[\"address\"][\"country\"]\n",
    "    return country\n",
    "  except:\n",
    "    return data"
   ]
  },
  {
   "cell_type": "code",
   "execution_count": null,
   "id": "f6b573f1",
   "metadata": {
    "vscode": {
     "languageId": "plaintext"
    }
   },
   "outputs": [],
   "source": [
    "# Filling the missing values with reverse Geocoding\n",
    "import numpy as np\n",
    "from tqdm.notebook import tqdm\n",
    "tqdm.pandas()\n",
    "\n",
    "df['country'] = joined[['ADMIN', 'Area Longitude','Area Latitude']].progress_apply(lambda row: reverse_geocode(row['Area Latitude'], row['Area Longitude']) if pd.isna(row['ADMIN']) else row['ADMIN'], axis=1)\n",
    "df.to_csv(\"df_with_country.csv\")"
   ]
  },
  {
   "cell_type": "code",
   "execution_count": null,
   "id": "9c42ae60",
   "metadata": {
    "vscode": {
     "languageId": "plaintext"
    }
   },
   "outputs": [],
   "source": [
    "Treat the new Dataset with countries"
   ]
  },
  {
   "cell_type": "code",
   "execution_count": null,
   "id": "41a2656a",
   "metadata": {
    "vscode": {
     "languageId": "plaintext"
    }
   },
   "outputs": [],
   "source": [
    "import pandas as pd"
   ]
  },
  {
   "cell_type": "code",
   "execution_count": null,
   "id": "a0e4a42b",
   "metadata": {
    "vscode": {
     "languageId": "plaintext"
    }
   },
   "outputs": [],
   "source": [
    "#Modify pandas to show all the values of the dataframe\n",
    "pd.set_option('display.max_rows', None)"
   ]
  },
  {
   "cell_type": "code",
   "execution_count": null,
   "id": "9bc549f4",
   "metadata": {
    "vscode": {
     "languageId": "plaintext"
    }
   },
   "outputs": [],
   "source": [
    "#Reset pandas row display\n",
    "pd.reset_option('display.max_rows')"
   ]
  },
  {
   "cell_type": "code",
   "execution_count": null,
   "id": "666acb7d",
   "metadata": {
    "vscode": {
     "languageId": "plaintext"
    }
   },
   "outputs": [],
   "source": [
    "#Read the new csv and check the values\n",
    "df_w_country = pd.read_csv(\"/content/df_with_country.csv\")\n",
    "df_w_country[\"country\"].value_counts()"
   ]
  },
  {
   "cell_type": "code",
   "execution_count": null,
   "id": "1b403198",
   "metadata": {
    "vscode": {
     "languageId": "plaintext"
    }
   },
   "outputs": [],
   "source": [
    "#Rename the values where country was not found to unknown\n",
    "df_w_country.loc[df_w_country[\"country\"] == \"{'title': '500 Internal Server Error'}\", \"country\"] = \"Unknown\""
   ]
  },
  {
   "cell_type": "code",
   "execution_count": null,
   "id": "1b2fa1be",
   "metadata": {
    "vscode": {
     "languageId": "plaintext"
    }
   },
   "outputs": [],
   "source": [
    "#Homogenize United States as United States of America\n",
    "df_w_country.loc[df_w_country[\"country\"] == \"United States\", \"country\"] = \"United States of America\""
   ]
  },
  {
   "cell_type": "code",
   "execution_count": null,
   "id": "e8d41ec4",
   "metadata": {
    "vscode": {
     "languageId": "plaintext"
    }
   },
   "outputs": [],
   "source": [
    "#Create the key value\n",
    "df_w_country[\"URL_split\"] = df_w_country[\"URL\"].str.split(\"/\")"
   ]
  },
  {
   "cell_type": "code",
   "execution_count": null,
   "id": "fd15a198",
   "metadata": {
    "vscode": {
     "languageId": "plaintext"
    }
   },
   "outputs": [],
   "source": [
    "#Create the key value\n",
    "df_w_country[\"key\"] = df_w_country[\"URL_split\"].str[4]"
   ]
  },
  {
   "cell_type": "code",
   "execution_count": null,
   "id": "780dbb9e",
   "metadata": {
    "vscode": {
     "languageId": "plaintext"
    }
   },
   "outputs": [],
   "source": [
    "#Create the final dataset of the keyvalue and the country\n",
    "df_country_final = df_w_country[[\"key\",\"country\"]]"
   ]
  },
  {
   "cell_type": "code",
   "execution_count": null,
   "id": "1f43fe4c",
   "metadata": {
    "vscode": {
     "languageId": "plaintext"
    }
   },
   "outputs": [],
   "source": [
    "#Check how it looks like \n",
    "df_country_final"
   ]
  },
  {
   "cell_type": "code",
   "execution_count": null,
   "id": "1f82b82a",
   "metadata": {
    "vscode": {
     "languageId": "plaintext"
    }
   },
   "outputs": [],
   "source": [
    "#Prepare to upload new dataframe to Big Query\n",
    "project_id = \"rock-finder-project\"\n",
    "dataset_id = \"rock-finder-project.routes\"\n",
    "table_id = \"country_final\"\n",
    "full_table_id = f\"{dataset_id}.{table_id}\""
   ]
  },
  {
   "cell_type": "code",
   "execution_count": null,
   "id": "d3fa8d3e",
   "metadata": {
    "vscode": {
     "languageId": "plaintext"
    }
   },
   "outputs": [],
   "source": [
    "#Upload new Dataframe to Big query \n",
    "from pandas_gbq import to_gbq\n",
    "to_gbq(df_country_final, destination_table=full_table_id, project_id=project_id, if_exists=\"replace\")"
   ]
  }
 ],
 "metadata": {
  "language_info": {
   "name": "python"
  }
 },
 "nbformat": 4,
 "nbformat_minor": 5
}
