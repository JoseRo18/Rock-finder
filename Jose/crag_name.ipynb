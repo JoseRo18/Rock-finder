{
 "cells": [
  {
   "cell_type": "code",
   "execution_count": null,
   "id": "c4482f4a",
   "metadata": {
    "vscode": {
     "languageId": "plaintext"
    }
   },
   "outputs": [],
   "source": [
    "!pip install --upgrade google-cloud-bigquery\n",
    "from google.colab import auth\n",
    "auth.authenticate_user()\n",
    "from google.cloud import bigquery"
   ]
  },
  {
   "cell_type": "code",
   "execution_count": null,
   "id": "199590f4",
   "metadata": {
    "vscode": {
     "languageId": "plaintext"
    }
   },
   "outputs": [],
   "source": [
    "# Set project ID\n",
    "project_id = \"rock-finder-project\"\n",
    "client = bigquery.Client(project=project_id)"
   ]
  },
  {
   "cell_type": "code",
   "execution_count": null,
   "id": "41aafb59",
   "metadata": {
    "vscode": {
     "languageId": "plaintext"
    }
   },
   "outputs": [],
   "source": [
    "query = \"\"\"\n",
    "SELECT * FROM `rock-finder-project.routes.df_routes_gold_multipitches`\n",
    "\"\"\"\n",
    "df = client.query(query).to_dataframe()"
   ]
  },
  {
   "cell_type": "code",
   "execution_count": null,
   "id": "0d68f833",
   "metadata": {
    "vscode": {
     "languageId": "plaintext"
    }
   },
   "outputs": [],
   "source": [
    "query = \"\"\"\n",
    "SELECT * FROM `rock-finder-project.routes.clusters`\n",
    "\"\"\"\n",
    "clusters = client.query(query).to_dataframe()"
   ]
  },
  {
   "cell_type": "code",
   "execution_count": null,
   "id": "75b361d5",
   "metadata": {
    "vscode": {
     "languageId": "plaintext"
    }
   },
   "outputs": [],
   "source": [
    "#Pandas\n",
    "import pandas as pd"
   ]
  },
  {
   "cell_type": "code",
   "execution_count": null,
   "id": "915d70c1",
   "metadata": {
    "vscode": {
     "languageId": "plaintext"
    }
   },
   "outputs": [],
   "source": [
    "#Pandas\n",
    "import pandas as pd"
   ]
  },
  {
   "cell_type": "code",
   "execution_count": null,
   "id": "06508fb3",
   "metadata": {
    "vscode": {
     "languageId": "plaintext"
    }
   },
   "outputs": [],
   "source": [
    "df.columns"
   ]
  },
  {
   "cell_type": "code",
   "execution_count": null,
   "id": "74898312",
   "metadata": {
    "vscode": {
     "languageId": "plaintext"
    }
   },
   "outputs": [],
   "source": [
    "df_merged = pd.merge(df,clusters, on = \"key\")"
   ]
  },
  {
   "cell_type": "code",
   "execution_count": null,
   "id": "49893e6e",
   "metadata": {
    "vscode": {
     "languageId": "plaintext"
    }
   },
   "outputs": [],
   "source": [
    "df_merged.columns"
   ]
  },
  {
   "cell_type": "code",
   "execution_count": null,
   "id": "5fb3bf71",
   "metadata": {
    "vscode": {
     "languageId": "plaintext"
    }
   },
   "outputs": [],
   "source": [
    "df_merged[[\"location_split\",\"key\",\"cluster\"]]"
   ]
  },
  {
   "cell_type": "code",
   "execution_count": null,
   "id": "11ce9353",
   "metadata": {
    "vscode": {
     "languageId": "plaintext"
    }
   },
   "outputs": [],
   "source": [
    "from collections import Counter\n",
    "\n",
    "# Function to count words in each cluster\n",
    "def count_words_per_cluster(group):\n",
    "    # Flatten all the lists of strings into one big list\n",
    "    all_words = sum(group[\"location_split\"], [])\n",
    "    return Counter(all_words)\n",
    "\n",
    "# Group by cluster and apply the word counter\n",
    "word_counts = df_merged.groupby(\"cluster\").apply(count_words_per_cluster)"
   ]
  },
  {
   "cell_type": "code",
   "execution_count": null,
   "id": "87c98569",
   "metadata": {
    "vscode": {
     "languageId": "plaintext"
    }
   },
   "outputs": [],
   "source": [
    "word_counts_df = word_counts.reset_index(name=\"word_counts\")"
   ]
  },
  {
   "cell_type": "code",
   "execution_count": null,
   "id": "27efb466",
   "metadata": {
    "vscode": {
     "languageId": "plaintext"
    }
   },
   "outputs": [],
   "source": [
    "df_final = df_merged.merge(word_counts_df, on=\"cluster\", how=\"left\")"
   ]
  },
  {
   "cell_type": "code",
   "execution_count": null,
   "id": "035a3815",
   "metadata": {
    "vscode": {
     "languageId": "plaintext"
    }
   },
   "outputs": [],
   "source": [
    "# Get the top words with the counter \n",
    "def get_top_words(counter):\n",
    "    if not isinstance(counter, dict) or not counter:\n",
    "        return []\n",
    "    max_count = max(counter.values())\n",
    "    return [word for word, count in counter.items() if count == max_count]\n",
    "\n",
    "df_final[\"top_words\"] = df_final[\"word_counts\"].apply(get_top_words)\n",
    "df_final[\"top_word_count\"] = df_final[\"word_counts\"].apply(lambda x: max(x.values()) if x else None)"
   ]
  },
  {
   "cell_type": "code",
   "execution_count": null,
   "id": "bab0c04a",
   "metadata": {
    "vscode": {
     "languageId": "plaintext"
    }
   },
   "outputs": [],
   "source": [
    "df_final.columns"
   ]
  },
  {
   "cell_type": "code",
   "execution_count": null,
   "id": "1f0a9dee",
   "metadata": {
    "vscode": {
     "languageId": "plaintext"
    }
   },
   "outputs": [],
   "source": [
    "df_crag = df_final[['top_words',\"cluster\",'top_word_count',\"key\"]]"
   ]
  },
  {
   "cell_type": "code",
   "execution_count": null,
   "id": "ae5d1e0b",
   "metadata": {
    "vscode": {
     "languageId": "plaintext"
    }
   },
   "outputs": [],
   "source": [
    "#Get only the first item from the top words count (incase there where miltiple words with the same value)\n",
    "df_crag[\"crag_name\"] = df_crag[\"top_words\"].apply(lambda x: x[0])"
   ]
  },
  {
   "cell_type": "code",
   "execution_count": null,
   "id": "286d8393",
   "metadata": {
    "vscode": {
     "languageId": "plaintext"
    }
   },
   "outputs": [],
   "source": [
    "#Remove any non letter character values \n",
    "import re\n",
    "import unicodedata\n",
    "import pandas as pd\n",
    "\n",
    "def clean_crag_name(name):\n",
    "    if pd.isnull(name):\n",
    "        return ''\n",
    "    # Normalize to NFKD (decompose accents etc.)\n",
    "    normalized = unicodedata.normalize('NFKD', name)\n",
    "    # Remove non-letter characters\n",
    "    return re.sub(r'[^A-Za-z]', '', normalized)\n",
    "\n",
    "df_crag[\"crag_name_clean\"] = df_crag[\"crag_name\"].apply(clean_crag_name)"
   ]
  },
  {
   "cell_type": "code",
   "execution_count": null,
   "id": "0c5ecb83",
   "metadata": {
    "vscode": {
     "languageId": "plaintext"
    }
   },
   "outputs": [],
   "source": [
    "# define the final crag table \n",
    "df_crag_final = df_crag[[\"key\",\"cluster\",\"crag_name_clean\"]]\n",
    "df_crag_final"
   ]
  },
  {
   "cell_type": "code",
   "execution_count": null,
   "id": "619d3d82",
   "metadata": {
    "vscode": {
     "languageId": "plaintext"
    }
   },
   "outputs": [],
   "source": [
    "#Prepare to upload new dataframe to Big Query\n",
    "project_id = \"rock-finder-project\"\n",
    "dataset_id = \"rock-finder-project.routes\"\n",
    "table_id = \"crag_name\"\n",
    "full_table_id = f\"{dataset_id}.{table_id}\""
   ]
  },
  {
   "cell_type": "code",
   "execution_count": null,
   "id": "7a33b635",
   "metadata": {
    "vscode": {
     "languageId": "plaintext"
    }
   },
   "outputs": [],
   "source": [
    "#Upload new Dataframe to Big query \n",
    "from pandas_gbq import to_gbq\n",
    "to_gbq(df_crag_final, destination_table=full_table_id, project_id=project_id, if_exists=\"replace\")"
   ]
  }
 ],
 "metadata": {
  "language_info": {
   "name": "python"
  }
 },
 "nbformat": 4,
 "nbformat_minor": 5
}
