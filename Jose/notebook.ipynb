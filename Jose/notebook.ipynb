{
 "cells": [
  {
   "cell_type": "code",
   "execution_count": null,
   "id": "16706101",
   "metadata": {
    "vscode": {
     "languageId": "plaintext"
    }
   },
   "outputs": [],
   "source": [
    "# BIG QUERY SETUP\n",
    "!pip install --upgrade google-cloud-bigquery\n",
    "from google.colab import auth\n",
    "auth.authenticate_user()\n",
    "from google.cloud import bigquery"
   ]
  },
  {
   "cell_type": "code",
   "execution_count": null,
   "id": "691c4f57",
   "metadata": {
    "vscode": {
     "languageId": "plaintext"
    }
   },
   "outputs": [],
   "source": [
    "# Set project ID\n",
    "project_id = \"rock-finder-project\"\n",
    "client = bigquery.Client(project=project_id)"
   ]
  },
  {
   "cell_type": "code",
   "execution_count": null,
   "id": "d6477e60",
   "metadata": {
    "vscode": {
     "languageId": "plaintext"
    }
   },
   "outputs": [],
   "source": [
    "#GETTING THE DF FROM BIG QUERY\n",
    "query = \"\"\"\n",
    "SELECT * FROM `rock-finder-project.routes.mp_routes`\n",
    "\"\"\"\n",
    "df = client.query(query).to_dataframe()"
   ]
  },
  {
   "cell_type": "code",
   "execution_count": null,
   "id": "533ee1b0",
   "metadata": {
    "vscode": {
     "languageId": "plaintext"
    }
   },
   "outputs": [],
   "source": [
    "#Pandas\n",
    "import pandas as pd"
   ]
  },
  {
   "cell_type": "code",
   "execution_count": null,
   "id": "4d289401",
   "metadata": {
    "vscode": {
     "languageId": "plaintext"
    }
   },
   "outputs": [],
   "source": [
    "#Transforms the column Rating into a list. Separates the string elements by \" \"\n",
    "df[\"Rating\"] = df[\"Rating\"].str.split()\n"
   ]
  },
  {
   "cell_type": "code",
   "execution_count": null,
   "id": "1aae391e",
   "metadata": {
    "vscode": {
     "languageId": "plaintext"
    }
   },
   "outputs": [],
   "source": [
    "#Create a list with the first element of the split wich is going to contain the rating number and letters \n",
    "list_of_first_elements=[]\n",
    "for l in range(df[\"Rating\"].size):\n",
    "  list_of_first_elements.append(df[\"Rating\"][l][0])"
   ]
  },
  {
   "cell_type": "code",
   "execution_count": null,
   "id": "dbe53784",
   "metadata": {
    "vscode": {
     "languageId": "plaintext"
    }
   },
   "outputs": [],
   "source": [
    "#Create a main rating column  with the list created before\n",
    "df['main_rating'] = list_of_first_elements"
   ]
  },
  {
   "cell_type": "code",
   "execution_count": null,
   "id": "b3745ab4",
   "metadata": {
    "vscode": {
     "languageId": "plaintext"
    }
   },
   "outputs": [],
   "source": [
    "#Get a view of the new column compared to the previous one CAN BE DELEATED \n",
    "df[['Rating','main_rating']]"
   ]
  },
  {
   "cell_type": "code",
   "execution_count": null,
   "id": "4108dc36",
   "metadata": {
    "vscode": {
     "languageId": "plaintext"
    }
   },
   "outputs": [],
   "source": [
    "#Separating the main rating into number part and string part using a regex finction. this will be saved in 2 new columns. \n",
    "#if there are no string values its going to be empty\n",
    "df[['rating_num', 'rating_cat']] = df['main_rating'].str.extract(r'^(\\d+(?:\\.\\d{1,2})?)(.*)$')\n",
    "df[['rating_num', 'rating_cat']] #getting a view CAN BE DELETED (LINE ONLY)"
   ]
  }
 ],
 "metadata": {
  "language_info": {
   "name": "python"
  }
 },
 "nbformat": 4,
 "nbformat_minor": 5
}
