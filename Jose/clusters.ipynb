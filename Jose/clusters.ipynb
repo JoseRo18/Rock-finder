{
 "cells": [
  {
   "cell_type": "code",
   "execution_count": null,
   "id": "0f9e7b6e",
   "metadata": {
    "vscode": {
     "languageId": "plaintext"
    }
   },
   "outputs": [],
   "source": [
    "!pip install --upgrade google-cloud-bigquery\n",
    "from google.colab import auth\n",
    "auth.authenticate_user()\n",
    "from google.cloud import bigquery"
   ]
  },
  {
   "cell_type": "code",
   "execution_count": null,
   "id": "ab009fc8",
   "metadata": {
    "vscode": {
     "languageId": "plaintext"
    }
   },
   "outputs": [],
   "source": [
    "# Set project ID\n",
    "project_id = \"rock-finder-project\"\n",
    "client = bigquery.Client(project=project_id)"
   ]
  },
  {
   "cell_type": "code",
   "execution_count": null,
   "id": "3c029264",
   "metadata": {
    "vscode": {
     "languageId": "plaintext"
    }
   },
   "outputs": [],
   "source": [
    "query = \"\"\"\n",
    "SELECT * FROM `rock-finder-project.routes.routes_gold`\n",
    "\"\"\"\n",
    "df = client.query(query).to_dataframe()"
   ]
  },
  {
   "cell_type": "code",
   "execution_count": null,
   "id": "d7c1888c",
   "metadata": {
    "vscode": {
     "languageId": "plaintext"
    }
   },
   "outputs": [],
   "source": [
    "#Pandas\n",
    "import pandas as pd"
   ]
  },
  {
   "cell_type": "code",
   "execution_count": null,
   "id": "7e7ab5ed",
   "metadata": {
    "vscode": {
     "languageId": "plaintext"
    }
   },
   "outputs": [],
   "source": [
    "Cluster method 1"
   ]
  },
  {
   "cell_type": "code",
   "execution_count": null,
   "id": "27336f98",
   "metadata": {
    "vscode": {
     "languageId": "plaintext"
    }
   },
   "outputs": [],
   "source": [
    "#Rounding the latitude and longitude values to make clusters. 1 decimal us around 11 km, 2 decimals is around 1 km.\n",
    "df['lat_rounded'] = df['area_latitude'].round(1)\n",
    "df['lon_rounded'] = df['area_longitude'].round(1)"
   ]
  },
  {
   "cell_type": "code",
   "execution_count": null,
   "id": "4f0d2dc0",
   "metadata": {
    "vscode": {
     "languageId": "plaintext"
    }
   },
   "outputs": [],
   "source": [
    "#Group by the rouded lat & lon values\n",
    "grouped = df.groupby(['lat_rounded', 'lon_rounded'])\n",
    "grouped.size()"
   ]
  },
  {
   "cell_type": "code",
   "execution_count": null,
   "id": "5f459b36",
   "metadata": {
    "vscode": {
     "languageId": "plaintext"
    }
   },
   "outputs": [],
   "source": [
    "Cluster method 2"
   ]
  },
  {
   "cell_type": "code",
   "execution_count": null,
   "id": "4d5f27d9",
   "metadata": {
    "vscode": {
     "languageId": "plaintext"
    }
   },
   "outputs": [],
   "source": [
    "# Cluster using DBSCAN\n",
    "from sklearn.cluster import DBSCAN\n",
    "from sklearn.preprocessing import StandardScaler\n",
    "import pandas as pd\n",
    "import numpy as np\n",
    "\n",
    "# Assuming you have a DataFrame `df` with columns 'latitude' and 'longitude'\n",
    "coords = df[['area_latitude', 'area_longitude']].to_numpy()\n",
    "\n",
    "# Convert degrees to radians for haversine\n",
    "coords_rad = np.radians(coords)\n",
    "\n",
    "# DBSCAN with Haversine distance (great-circle distance)\n",
    "kms_per_radian = 6371.0088\n",
    "epsilon = 1 / kms_per_radian  # 0.5 km radius\n",
    "\n",
    "db = DBSCAN(eps=epsilon, min_samples=2, algorithm='ball_tree', metric='haversine').fit(coords_rad)\n",
    "\n",
    "# Add cluster labels back to the DataFrame\n",
    "df['cluster'] = db.labels_"
   ]
  },
  {
   "cell_type": "code",
   "execution_count": null,
   "id": "080a831f",
   "metadata": {
    "vscode": {
     "languageId": "plaintext"
    }
   },
   "outputs": [],
   "source": [
    "# 1. Compute means\n",
    "grouped_df = df.groupby(\"cluster\").agg({\n",
    "    \"area_latitude\": \"mean\",\n",
    "    \"area_longitude\": \"mean\",\n",
    "    \"lat_rounded\": \"mean\",\n",
    "    \"lon_rounded\": \"mean\"\n",
    "}).reset_index()\n",
    "\n",
    "# 2. Compute count per group\n",
    "cluster_sizes = df.groupby(\"cluster\").size().reset_index(name=\"cluster_size\")\n",
    "\n",
    "# 3. Merge the two\n",
    "grouped_df = pd.merge(grouped_df, cluster_sizes, on=\"cluster\")\n",
    "\n",
    "# 4. Rename average columns for clarity\n",
    "grouped_df = grouped_df.rename(columns={\n",
    "    \"area_latitude\": \"area_latitude_avg\",\n",
    "    \"area_longitude\": \"area_longitude_avg\",\n",
    "    \"lat_rounded\": \"lat_rounded_avg\",\n",
    "    \"lon_rounded\": \"lon_rounded_avg\"\n",
    "})"
   ]
  },
  {
   "cell_type": "code",
   "execution_count": null,
   "id": "d50f359e",
   "metadata": {
    "vscode": {
     "languageId": "plaintext"
    }
   },
   "outputs": [],
   "source": [
    "df.columns"
   ]
  },
  {
   "cell_type": "code",
   "execution_count": null,
   "id": "e2439573",
   "metadata": {
    "vscode": {
     "languageId": "plaintext"
    }
   },
   "outputs": [],
   "source": [
    "grouped_df.columns"
   ]
  },
  {
   "cell_type": "code",
   "execution_count": null,
   "id": "2ee46514",
   "metadata": {
    "vscode": {
     "languageId": "plaintext"
    }
   },
   "outputs": [],
   "source": [
    "# merge the grouped information and averages into the initioal table. This way we are able to keep the key value as well as our averages and our count for each cluster\n",
    "final_df = pd.merge(df,grouped_df, on = \"cluster\")"
   ]
  },
  {
   "cell_type": "code",
   "execution_count": null,
   "id": "6a616041",
   "metadata": {
    "vscode": {
     "languageId": "plaintext"
    }
   },
   "outputs": [],
   "source": [
    "final_df.columns"
   ]
  },
  {
   "cell_type": "code",
   "execution_count": null,
   "id": "731c92b7",
   "metadata": {
    "vscode": {
     "languageId": "plaintext"
    }
   },
   "outputs": [],
   "source": [
    "# Only keep the rows we are interested in \n",
    "final_df = final_df[[\"key\",\"cluster\",\"area_latitude_avg\",\"area_longitude_avg\",\"cluster_size\"]]\n",
    "final_df"
   ]
  },
  {
   "cell_type": "code",
   "execution_count": null,
   "id": "103e56c8",
   "metadata": {
    "vscode": {
     "languageId": "plaintext"
    }
   },
   "outputs": [],
   "source": [
    "#Prepare to upload new dataframe to Big Query\n",
    "project_id = \"rock-finder-project\"\n",
    "dataset_id = \"rock-finder-project.routes\"\n",
    "table_id = \"clusters\"\n",
    "full_table_id = f\"{dataset_id}.{table_id}\""
   ]
  },
  {
   "cell_type": "code",
   "execution_count": null,
   "id": "f60d7b94",
   "metadata": {
    "vscode": {
     "languageId": "plaintext"
    }
   },
   "outputs": [],
   "source": [
    "#Upload new Dataframe to Big query \n",
    "from pandas_gbq import to_gbq\n",
    "to_gbq(final_df, destination_table=full_table_id, project_id=project_id, if_exists=\"replace\")"
   ]
  }
 ],
 "metadata": {
  "language_info": {
   "name": "python"
  }
 },
 "nbformat": 4,
 "nbformat_minor": 5
}
