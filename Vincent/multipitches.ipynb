{
 "cells": [
  {
   "cell_type": "code",
   "execution_count": null,
   "id": "a50515be",
   "metadata": {
    "vscode": {
     "languageId": "plaintext"
    }
   },
   "outputs": [],
   "source": [
    "# cleaning\n",
    "df['Pitches'].unique()\n",
    "df['Pitches'].value_counts()"
   ]
  },
  {
   "cell_type": "code",
   "execution_count": null,
   "id": "56d47ba5",
   "metadata": {
    "vscode": {
     "languageId": "plaintext"
    }
   },
   "outputs": [],
   "source": [
    "# cleaning unknown values\n",
    "df_routes_gold['Pitches'] = df_routes_gold['Pitches'].apply(lambda x: max(0, x))\n",
    "df_routes_gold['Pitches']"
   ]
  },
  {
   "cell_type": "code",
   "execution_count": null,
   "id": "dfae1f3f",
   "metadata": {
    "vscode": {
     "languageId": "plaintext"
    }
   },
   "outputs": [],
   "source": [
    "# Categorize\n",
    "def classify_pitch_group(Pitches):\n",
    "    if Pitches == 1:\n",
    "        return 'Single-pitch'\n",
    "    elif 2 <= Pitches <= 3:\n",
    "        return 'Short multi-pitch'\n",
    "    elif 4 <= Pitches <= 10:\n",
    "        return 'Standard multi-pitch'\n",
    "    elif 11 <= Pitches <= 20:\n",
    "        return 'Long multi-pitch'\n",
    "    elif 21 <= Pitches <= 30:\n",
    "        return 'Very long multi-pitch'\n",
    "    elif Pitches >= 31:\n",
    "        return 'Big wall / Expedition'\n",
    "    else:\n",
    "        return 'unknown'\n",
    "\n",
    "# Apply to DataFrame\n",
    "df_routes_gold['PitchesCategory'] = df_routes_gold['Pitches'].apply(classify_pitch_group)\n",
    "df_routes_gold['PitchesCategory']\n",
    "df_routes_gold"
   ]
  },
  {
   "cell_type": "code",
   "execution_count": null,
   "id": "e0c4416d",
   "metadata": {
    "vscode": {
     "languageId": "plaintext"
    }
   },
   "outputs": [],
   "source": [
    "# Authenticate with Google account\n",
    "auth.authenticate_user()\n",
    "\n",
    "# Set project and table ID\n",
    "project_id = 'rock-finder-project'\n",
    "table_id = 'routes.df_routes_gold_multipitches'  # dataset.table 형식\n",
    "\n",
    "# Upload dataframe\n",
    "to_gbq(\n",
    "    dataframe=df_routes_gold,\n",
    "    destination_table=table_id,\n",
    "    project_id=project_id,\n",
    "    if_exists='fail'  # 또는 'replace' / 'append'\n",
    ") "
   ]
  }
 ],
 "metadata": {
  "language_info": {
   "name": "python"
  }
 },
 "nbformat": 4,
 "nbformat_minor": 5
}
