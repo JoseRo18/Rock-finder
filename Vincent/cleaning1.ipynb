{
 "cells": [
  {
   "cell_type": "code",
   "execution_count": null,
   "id": "11071f01",
   "metadata": {
    "vscode": {
     "languageId": "plaintext"
    }
   },
   "outputs": [],
   "source": [
    "!pip install --upgrade google-cloud-bigquery\n",
    "from google.colab import auth\n",
    "auth.authenticate_user()\n",
    "from google.cloud import bigquery\n",
    "\n",
    "# Initialize client\n",
    "client = bigquery.Client(project='rock-finder-project')"
   ]
  },
  {
   "cell_type": "code",
   "execution_count": null,
   "id": "124b03ea",
   "metadata": {
    "vscode": {
     "languageId": "plaintext"
    }
   },
   "outputs": [],
   "source": [
    "import pandas_gbq"
   ]
  },
  {
   "cell_type": "code",
   "execution_count": null,
   "id": "2254d275",
   "metadata": {
    "vscode": {
     "languageId": "plaintext"
    }
   },
   "outputs": [],
   "source": [
    "import pandas as pd\n",
    "import numpy as np\n",
    "import matplotlib.pyplot as plt\n",
    "\n",
    "sql = \"SELECT * FROM rock-finder-project.routes.mp_routes\"\n",
    "p_id=\"rock-finder-project\"\n",
    "df_routes = pandas_gbq.read_gbq(sql, project_id=p_id)\n",
    "df_routes\n"
   ]
  },
  {
   "cell_type": "code",
   "execution_count": null,
   "id": "652387b8",
   "metadata": {
    "vscode": {
     "languageId": "plaintext"
    }
   },
   "outputs": [],
   "source": [
    "#Null value in Rating\n",
    "df_routes[['Rating']].isnull().sum()"
   ]
  },
  {
   "cell_type": "code",
   "execution_count": null,
   "id": "61c2b729",
   "metadata": {
    "vscode": {
     "languageId": "plaintext"
    }
   },
   "outputs": [],
   "source": [
    "# How many 'Alpine' in Route Type\n",
    "df_routes['Route Type'].value_counts()"
   ]
  },
  {
   "cell_type": "markdown",
   "id": "d23165d8",
   "metadata": {},
   "source": [
    "#making the simple columns with only Sport, Trap, TR from 'Route Type' column\n",
    "\n",
    "# Sample structure from your list\n",
    "data =['Route Type']\n",
    "df = pd.DataFrame(df_routes)\n",
    "df\n",
    "# Define high-level route categories to track\n",
    "core_types = ['Trad', 'Sport', 'TR']\n",
    "\n",
    "# Create boolean columns\n",
    "for route in core_types:\n",
    "    df[f'is_{route.lower()}'] = df['Route Type'].str.contains(rf'\\b{route}\\b').astype(int)\n",
    "\n",
    "df"
   ]
  },
  {
   "cell_type": "markdown",
   "id": "9e0b750f",
   "metadata": {},
   "source": [
    "df[['is_trad', 'is_sport', 'is_tr']].sum()"
   ]
  }
 ],
 "metadata": {
  "language_info": {
   "name": "python"
  }
 },
 "nbformat": 4,
 "nbformat_minor": 5
}
