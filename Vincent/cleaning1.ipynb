{
 "cells": [
  {
   "cell_type": "code",
   "execution_count": null,
   "id": "11071f01",
   "metadata": {
    "vscode": {
     "languageId": "plaintext"
    }
   },
   "outputs": [],
   "source": [
    "!pip install --upgrade google-cloud-bigquery\n",
    "from google.colab import auth\n",
    "auth.authenticate_user()\n",
    "from google.cloud import bigquery\n",
    "\n",
    "# Initialize client\n",
    "client = bigquery.Client(project='rock-finder-project')"
   ]
  },
  {
   "cell_type": "code",
   "execution_count": null,
   "id": "124b03ea",
   "metadata": {
    "vscode": {
     "languageId": "plaintext"
    }
   },
   "outputs": [],
   "source": [
    "import pandas_gbq"
   ]
  },
  {
   "cell_type": "code",
   "execution_count": null,
   "id": "2254d275",
   "metadata": {
    "vscode": {
     "languageId": "plaintext"
    }
   },
   "outputs": [],
   "source": [
    "import pandas as pd\n",
    "import numpy as np\n",
    "import matplotlib.pyplot as plt\n",
    "\n",
    "sql = \"SELECT * FROM rock-finder-project.routes.mp_routes\"\n",
    "p_id=\"rock-finder-project\"\n",
    "df_routes = pandas_gbq.read_gbq(sql, project_id=p_id)\n",
    "df_routes\n"
   ]
  },
  {
   "cell_type": "code",
   "execution_count": null,
   "id": "652387b8",
   "metadata": {
    "vscode": {
     "languageId": "plaintext"
    }
   },
   "outputs": [],
   "source": [
    "#Null value in Rating\n",
    "df_routes[['Rating']].isnull().sum()"
   ]
  },
  {
   "cell_type": "code",
   "execution_count": null,
   "id": "61c2b729",
   "metadata": {
    "vscode": {
     "languageId": "plaintext"
    }
   },
   "outputs": [],
   "source": [
    "# How many 'Alpine' in Route Type\n",
    "df_routes['Route Type'].value_counts()"
   ]
  },
  {
   "cell_type": "markdown",
   "id": "d23165d8",
   "metadata": {},
   "source": [
    "#making the simple columns with only Sport, Trap, TR from 'Route Type' column\n",
    "\n",
    "# Sample structure from your list\n",
    "data =['Route Type']\n",
    "df = pd.DataFrame(df_routes)\n",
    "df\n",
    "\n",
    "\n",
    "\n",
    "\n"
   ]
  },
  {
   "cell_type": "code",
   "execution_count": null,
   "id": "21f8fcbc",
   "metadata": {
    "vscode": {
     "languageId": "plaintext"
    }
   },
   "outputs": [],
   "source": [
    "# Define high-level route categories to track\n",
    "core_types = ['Trad', 'Sport', 'TR']"
   ]
  },
  {
   "cell_type": "code",
   "execution_count": null,
   "id": "4ccaae7c",
   "metadata": {
    "vscode": {
     "languageId": "plaintext"
    }
   },
   "outputs": [],
   "source": [
    "# Create columns for counting the number of each type\n",
    "for route in core_types:\n",
    "    df[f'is_{route.lower()}'] = df['Route Type'].str.contains(rf'\\b{route}\\b').astype(int)"
   ]
  },
  {
   "cell_type": "code",
   "execution_count": null,
   "id": "70014e03",
   "metadata": {
    "vscode": {
     "languageId": "plaintext"
    }
   },
   "outputs": [],
   "source": [
    "df"
   ]
  },
  {
   "cell_type": "markdown",
   "id": "9e0b750f",
   "metadata": {},
   "source": [
    "# the number of each column\n",
    "df[['is_trad', 'is_sport', 'is_tr']].sum()"
   ]
  },
  {
   "cell_type": "code",
   "execution_count": null,
   "id": "f52e29ed",
   "metadata": {
    "vscode": {
     "languageId": "plaintext"
    }
   },
   "outputs": [],
   "source": [
    "# day 2\n",
    "# cleaning URL columns\n",
    "df['url'].isnull().sum()"
   ]
  },
  {
   "cell_type": "code",
   "execution_count": null,
   "id": "9e682d14",
   "metadata": {
    "vscode": {
     "languageId": "plaintext"
    }
   },
   "outputs": [],
   "source": [
    "df['url'].info()\n"
   ]
  },
  {
   "cell_type": "code",
   "execution_count": null,
   "id": "e4cac99d",
   "metadata": {
    "vscode": {
     "languageId": "plaintext"
    }
   },
   "outputs": [],
   "source": [
    "df['url'].duplicated().sum()"
   ]
  },
  {
   "cell_type": "code",
   "execution_count": null,
   "id": "97693422",
   "metadata": {
    "vscode": {
     "languageId": "plaintext"
    }
   },
   "outputs": [],
   "source": [
    "# check url validity -> ensuring the data contains real, usable links \n",
    "import re\n",
    "\n"
   ]
  },
  {
   "cell_type": "code",
   "execution_count": null,
   "id": "7e41c80c",
   "metadata": {
    "vscode": {
     "languageId": "plaintext"
    }
   },
   "outputs": [],
   "source": [
    "def is_valid_url(url):\n",
    "    return bool(re.match(r'^https?://', str(url).strip()))"
   ]
  },
  {
   "cell_type": "code",
   "execution_count": null,
   "id": "fc8a833d",
   "metadata": {
    "vscode": {
     "languageId": "plaintext"
    }
   },
   "outputs": [],
   "source": [
    "print(df['url'].apply(is_valid_url).value_counts())\n",
    "#all true, so far so good"
   ]
  },
  {
   "cell_type": "code",
   "execution_count": null,
   "id": "452c1f61",
   "metadata": {
    "vscode": {
     "languageId": "plaintext"
    }
   },
   "outputs": [],
   "source": [
    "# cleaning avg_stars\n",
    "df['avg_stars'].isnull().sum()"
   ]
  },
  {
   "cell_type": "code",
   "execution_count": null,
   "id": "a5ac8dda",
   "metadata": {
    "vscode": {
     "languageId": "plaintext"
    }
   },
   "outputs": [],
   "source": [
    "df['avg_stars'].info()"
   ]
  },
  {
   "cell_type": "code",
   "execution_count": null,
   "id": "baf6752f",
   "metadata": {
    "vscode": {
     "languageId": "plaintext"
    }
   },
   "outputs": [],
   "source": [
    "df['avg_stars'].describe()"
   ]
  },
  {
   "cell_type": "code",
   "execution_count": null,
   "id": "39ed5f6e",
   "metadata": {
    "vscode": {
     "languageId": "plaintext"
    }
   },
   "outputs": [],
   "source": [
    "#skew is not bad\n",
    "df['avg_stars'].skew()"
   ]
  },
  {
   "cell_type": "code",
   "execution_count": null,
   "id": "f26ce49a",
   "metadata": {
    "vscode": {
     "languageId": "plaintext"
    }
   },
   "outputs": [],
   "source": [
    "# checking outliers\n",
    "import seaborn as sns"
   ]
  },
  {
   "cell_type": "code",
   "execution_count": null,
   "id": "7968af9c",
   "metadata": {
    "vscode": {
     "languageId": "plaintext"
    }
   },
   "outputs": [],
   "source": [
    "sns.boxplot(x=df['avg_stars'])\n",
    "# we can see a few of dots on the left side but it doesn't seem like outliers"
   ]
  },
  {
   "cell_type": "code",
   "execution_count": null,
   "id": "21341546",
   "metadata": {
    "vscode": {
     "languageId": "plaintext"
    }
   },
   "outputs": [],
   "source": [
    "#in [' num_votes'] column, erase blank\n",
    "df.rename(columns={\" num_votes\": \"num_votes\"}, inplace=True)"
   ]
  },
  {
   "cell_type": "code",
   "execution_count": null,
   "id": "133fc472",
   "metadata": {
    "vscode": {
     "languageId": "plaintext"
    }
   },
   "outputs": [],
   "source": [
    "#starting cleaning num_votes column\n",
    "df['num_votes'].isnull().sum()"
   ]
  },
  {
   "cell_type": "code",
   "execution_count": null,
   "id": "da8e213d",
   "metadata": {
    "vscode": {
     "languageId": "plaintext"
    }
   },
   "outputs": [],
   "source": [
    "df['num_votes'].max()"
   ]
  },
  {
   "cell_type": "code",
   "execution_count": null,
   "id": "48e128f0",
   "metadata": {
    "vscode": {
     "languageId": "plaintext"
    }
   },
   "outputs": [],
   "source": [
    "df['num_votes'].min()"
   ]
  },
  {
   "cell_type": "code",
   "execution_count": null,
   "id": "554dc03c",
   "metadata": {
    "vscode": {
     "languageId": "plaintext"
    }
   },
   "outputs": [],
   "source": [
    "#too much gap between max and min so let's investigate median and skew first\n",
    "df['num_votes'].describe()"
   ]
  },
  {
   "cell_type": "code",
   "execution_count": null,
   "id": "9e9362a5",
   "metadata": {
    "vscode": {
     "languageId": "plaintext"
    }
   },
   "outputs": [],
   "source": [
    "#check the skew\n",
    "df['num_votes'].skew()"
   ]
  },
  {
   "cell_type": "code",
   "execution_count": null,
   "id": "00475475",
   "metadata": {
    "vscode": {
     "languageId": "plaintext"
    }
   },
   "outputs": [],
   "source": [
    "import seaborn as sns\n",
    "sns.boxplot(x=df['num_votes'])"
   ]
  },
  {
   "cell_type": "code",
   "execution_count": null,
   "id": "30bc1d1f",
   "metadata": {
    "vscode": {
     "languageId": "plaintext"
    }
   },
   "outputs": [],
   "source": [
    "df['num_votes'].sort_values(ascending=False).head(20)"
   ]
  },
  {
   "cell_type": "code",
   "execution_count": null,
   "id": "9b32bb45",
   "metadata": {
    "vscode": {
     "languageId": "plaintext"
    }
   },
   "outputs": [],
   "source": [
    "# drawing graph\n",
    "df[['num_votes']].sort_values(by='num_votes').reset_index(drop=True).plot()"
   ]
  },
  {
   "cell_type": "code",
   "execution_count": null,
   "id": "fca4466b",
   "metadata": {
    "vscode": {
     "languageId": "plaintext"
    }
   },
   "outputs": [],
   "source": [
    "#highly right skewed so we need to do something for getting rid of outliers\n",
    "#or we can find more information of whole data rows of huge amount of 'num_votes' not to make wrong decision"
   ]
  },
  {
   "cell_type": "code",
   "execution_count": null,
   "id": "0745bcc7",
   "metadata": {
    "vscode": {
     "languageId": "plaintext"
    }
   },
   "outputs": [],
   "source": [
    "# 1. the list of massive values from num_votes that we want to find \n",
    "high_votes = [1757, 1379, 1323, 1284, 1159, 1156, 1080, 1066, 1044, 1020, 990\n",
    ", 989, 959, 957, 925, 917, 907, 868, 861, 844]"
   ]
  },
  {
   "cell_type": "code",
   "execution_count": null,
   "id": "e20b4f37",
   "metadata": {
    "vscode": {
     "languageId": "plaintext"
    }
   },
   "outputs": [],
   "source": [
    "# 2. extracting the whole range of rows align with this condition/ check the url for gathering the info\n",
    "subset_df = df[df['num_votes'].isin(high_votes)]"
   ]
  },
  {
   "cell_type": "code",
   "execution_count": null,
   "id": "1aaf40b4",
   "metadata": {
    "vscode": {
     "languageId": "plaintext"
    }
   },
   "outputs": [],
   "source": [
    "# *get a full url\n",
    "pd.set_option('display.max_colwidth', None)"
   ]
  },
  {
   "cell_type": "code",
   "execution_count": null,
   "id": "6dde85fd",
   "metadata": {
    "vscode": {
     "languageId": "plaintext"
    }
   },
   "outputs": [],
   "source": [
    "# 3. arrangement + without desc column\n",
    "subset_df = subset_df.sort_values(by='num_votes', ascending=False)\n",
    "subset_df = subset_df.drop(columns=[' desc'])\n",
    "subset_df "
   ]
  },
  {
   "cell_type": "code",
   "execution_count": null,
   "id": "074d0f2c",
   "metadata": {
    "vscode": {
     "languageId": "plaintext"
    }
   },
   "outputs": [],
   "source": [
    "#after checking information in url, we can decide it seems to be wrong to extract the huge values in num_votes."
   ]
  }
 ],
 "metadata": {
  "language_info": {
   "name": "python"
  }
 },
 "nbformat": 4,
 "nbformat_minor": 5
}
