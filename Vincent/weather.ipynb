{
 "cells": [
  {
   "cell_type": "code",
   "execution_count": null,
   "id": "e27c083b",
   "metadata": {
    "vscode": {
     "languageId": "plaintext"
    }
   },
   "outputs": [],
   "source": [
    "#lan/lon\n",
    "df_region = df[['Area Latitude', 'Area Longitude']]\n",
    "df_region"
   ]
  },
  {
   "cell_type": "code",
   "execution_count": null,
   "id": "cedba483",
   "metadata": {
    "vscode": {
     "languageId": "plaintext"
    }
   },
   "outputs": [],
   "source": [
    "#drop the duplications if the row is completely same \n",
    "df_region_drop_dup = df_region.drop_duplicates()\n",
    "df_region_drop_dup\n"
   ]
  },
  {
   "cell_type": "code",
   "execution_count": null,
   "id": "fef7fe81",
   "metadata": {
    "vscode": {
     "languageId": "plaintext"
    }
   },
   "outputs": [],
   "source": [
    "#saving the weather_june\n",
    "import numpy as np\n",
    "import pandas as pd\n",
    "import requests\n",
    "from tqdm import tqdm\n",
    "from concurrent.futures import ThreadPoolExecutor\n",
    "\n",
    "tqdm.pandas()\n",
    "\n",
    "def get_weather(lat, lon):\n",
    "    url = f\"https://weather.lewagon.com/data/2.5/forecast\"\n",
    "    list_of_temps = []\n",
    "    list_of_weathers = []\n",
    "    list_of_dates = []\n",
    "\n",
    "    res = requests.get(url, params={\"lat\":lat,\"lon\":lon})\n",
    "    \n",
    "    if res.status_code == 200:\n",
    "        data = res.json()['list']\n",
    "        \n",
    "        for dic in data:\n",
    "            try:\n",
    "                 temp = dic[\"main\"][\"temp\"]\n",
    "            except:\n",
    "                 temp = \"no temp\"\n",
    "\n",
    "            try:\n",
    "                 weather = dic[\"weather\"][0][\"main\"]\n",
    "            except:\n",
    "                 weather = \"no weather\"\n",
    "\n",
    "            try:\n",
    "                 date = dic[\"dt_txt\"]\n",
    "            except:\n",
    "                 date = \"no date\"\n",
    "\n",
    "            list_of_temps.append(temp)\n",
    "            list_of_weathers.append(weather)\n",
    "            list_of_dates.append(date)\n",
    "\n",
    "    else:\n",
    "        list_of_temps.append(res.status_code)\n",
    "\n",
    "    return pd.DataFrame({\n",
    "        \"datetime\": list_of_dates,\n",
    "        \"temp\": list_of_temps,\n",
    "        \"weather\": list_of_weathers,\n",
    "        \"lat\": lat,\n",
    "        \"lon\": lon\n",
    "    })\n",
    "\n",
    "# 좌표 리스트\n",
    "list_of_coords = list(zip(df_region_drop_dup['Area Latitude'], df_region_drop_dup['Area Longitude']))  # 또는 df['latitude'], df['longitude']\n",
    "\n",
    "# 병렬 처리로 데이터 수집\n",
    "with ThreadPoolExecutor(max_workers=10) as executor:\n",
    "    results = list(tqdm(executor.map(lambda x: get_weather(x[0], x[1]), list_of_coords), total=len(list_of_coords)))\n",
    "\n",
    "# 결과를 하나의 DataFrame으로 합치기\n",
    "weather_df = pd.concat(results, ignore_index=True)\n",
    "weather_df"
   ]
  },
  {
   "cell_type": "code",
   "execution_count": null,
   "id": "e553aac9",
   "metadata": {
    "vscode": {
     "languageId": "plaintext"
    }
   },
   "outputs": [],
   "source": [
    "weather_df.to_csv('weather_dataJune.csv', index=False)\n",
    "weather_df = pd.read_csv('weather_dataJune.csv')\n",
    "weather_df"
   ]
  },
  {
   "cell_type": "code",
   "execution_count": null,
   "id": "b0c841d8",
   "metadata": {
    "vscode": {
     "languageId": "plaintext"
    }
   },
   "outputs": [],
   "source": [
    "#cleaning\n",
    "weather_df['weather'].unique()\n",
    "weather_df['weather'].value_counts()"
   ]
  },
  {
   "cell_type": "code",
   "execution_count": null,
   "id": "ff0ade3c",
   "metadata": {
    "vscode": {
     "languageId": "plaintext"
    }
   },
   "outputs": [],
   "source": [
    "# safely copied\n",
    "weather_df_filtered = weather_df_filtered.copy()\n",
    "\n",
    "# weather and temp extracting\n",
    "weather_df_filtered['date'] = weather_df_filtered['datetime'].dt.date\n",
    "weather_df_filtered['hour'] = weather_df_filtered['datetime'].dt.hour\n",
    "\n",
    "# temp pivot \n",
    "temp_pivot = weather_df_filtered.pivot_table(\n",
    "    index=['lat', 'lon', 'date'],\n",
    "    columns='hour',\n",
    "    values='temp',\n",
    "    aggfunc='mean'\n",
    ").add_prefix('temp_')\n",
    "\n",
    "# weather pivot\n",
    "weather_pivot = weather_df_filtered.pivot_table(\n",
    "    index=['lat', 'lon', 'date'],\n",
    "    columns='hour',\n",
    "    values='weather',\n",
    "    aggfunc='first'\n",
    ").add_prefix('weather_')\n",
    "\n",
    "# concat\n",
    "weather_df_wide = pd.concat([temp_pivot, weather_pivot], axis=1).reset_index()\n",
    "weather_df_wide"
   ]
  },
  {
   "cell_type": "code",
   "execution_count": null,
   "id": "1521b12e",
   "metadata": {
    "vscode": {
     "languageId": "plaintext"
    }
   },
   "outputs": [],
   "source": [
    "#mean of temp\n",
    "weather_df_wide['temp_avg'] = weather_df_wide[['temp_6', 'temp_9', 'temp_12']].mean(axis=1)"
   ]
  },
  {
   "cell_type": "code",
   "execution_count": null,
   "id": "6bf7f56b",
   "metadata": {
    "vscode": {
     "languageId": "plaintext"
    }
   },
   "outputs": [],
   "source": [
    "\n",
    "#weighted mean of weather\n",
    "weather_types = ['Clouds', 'Clear', 'Rain', 'Snow']\n",
    "\n",
    "def calc_weather_percentages(row):\n",
    "    values = [row['weather_6'], row['weather_9'], row['weather_12']]\n",
    "    total = len(values)\n",
    "    counts = {wt: 0 for wt in weather_types}\n",
    "    \n",
    "    for val in values:\n",
    "        if val in counts:\n",
    "            counts[val] += 1\n",
    "    \n",
    "    # calculating of rate (0~100%)\n",
    "    return pd.Series({f\"{wt.lower()}_pct\": (counts[wt] / total) * 100 for wt in weather_types})\n",
    "# df_weather_pct = weather_df_wide.apply(calc_weather_percentages, axis=1)\n",
    "weather_df_wide[['clouds_pct', 'clear_pct', 'rain_pct', 'snow_pct']] = weather_df_wide.apply(calc_weather_percentages, axis=1)"
   ]
  },
  {
   "cell_type": "code",
   "execution_count": null,
   "id": "4ca10f38",
   "metadata": {
    "vscode": {
     "languageId": "plaintext"
    }
   },
   "outputs": [],
   "source": [
    "def summarize_weather(row):\n",
    "    cols = ['clouds_pct', 'clear_pct', 'rain_pct', 'snow_pct']\n",
    "    max_col = row[cols].idxmax()               # the name of the column with the highest possibility \n",
    "    max_val = row[max_col]                     # the value of that column \n",
    "    label = max_col.replace('_pct', '').capitalize()  # 'clouds_pct' → 'Clouds'\n",
    "    return f\"{label} ({max_val:.1f}%)\"\n",
    "weather_df_wide['weather_summary'] = weather_df_wide.apply(summarize_weather, axis=1)\n"
   ]
  },
  {
   "cell_type": "code",
   "execution_count": null,
   "id": "1fb97311",
   "metadata": {
    "vscode": {
     "languageId": "plaintext"
    }
   },
   "outputs": [],
   "source": [
    "cols_to_drop = [\n",
    "    'temp_6', 'temp_9', 'temp_12',\n",
    "    'weather_6', 'weather_9', 'weather_12',\n",
    "    'clouds_pct', 'clear_pct', 'rain_pct', 'snow_pct'\n",
    "]\n",
    "\n",
    "weather_df_wide.drop(columns=cols_to_drop, inplace=True)"
   ]
  },
  {
   "cell_type": "code",
   "execution_count": null,
   "id": "e1833c55",
   "metadata": {
    "vscode": {
     "languageId": "plaintext"
    }
   },
   "outputs": [],
   "source": [
    "# # 1. transformating Kelvin to Celcius \n",
    "weather_df_wide['temp_avg'] = weather_df_wide['temp_avg'] - 273.15\n",
    "\n",
    "# 2. concatenation \n",
    "weather_df_wide['summary'] = weather_df_wide['temp_avg'].round(1).astype(str) + '°C, ' + weather_df_wide['weather_summary']\n",
    "\n",
    "# 3. pivot by days\n",
    "weather_df_summary = weather_df_wide.pivot_table(\n",
    "    index=['lat', 'lon'],\n",
    "    columns='date',\n",
    "    values='summary',\n",
    "    aggfunc='first'  \n",
    ").reset_index()\n",
    "\n",
    "# 4. arrange the name of columns \n",
    "weather_df_summary.columns.name = None  # remove 'date' as the columns name"
   ]
  },
  {
   "cell_type": "code",
   "execution_count": null,
   "id": "19a77a0c",
   "metadata": {
    "vscode": {
     "languageId": "plaintext"
    }
   },
   "outputs": [],
   "source": [
    "from datetime import datetime\n",
    "\n",
    "weather_df_summary.columns = [\n",
    "    datetime.strptime(str(col), \"%Y-%m-%d\").strftime(\"%B %d %Y\")\n",
    "    if str(col)[:4].isdigit() else col\n",
    "    for col in weather_df_summary.columns\n",
    "]\n",
    "\n",
    "weather_df_summary\n"
   ]
  },
  {
   "cell_type": "code",
   "execution_count": null,
   "id": "2cc4ea73",
   "metadata": {
    "vscode": {
     "languageId": "plaintext"
    }
   },
   "outputs": [],
   "source": [
    "weather_df_summary.rename(columns={\n",
    "    'lat': 'area_latitude',\n",
    "    'lon': 'area_longitude'\n",
    "}, inplace=True)\n",
    "weather_df_summary"
   ]
  },
  {
   "cell_type": "code",
   "execution_count": null,
   "id": "74037317",
   "metadata": {
    "vscode": {
     "languageId": "plaintext"
    }
   },
   "outputs": [],
   "source": [
    "!pip install --upgrade google-cloud-bigquery\n",
    "from google.colab import auth\n",
    "auth.authenticate_user()\n",
    "from google.cloud import bigquery\n",
    "\n",
    "# Initialize client\n",
    "client = bigquery.Client(project='rock-finder-project')\n",
    "\n",
    "import pandas_gbq\n",
    "import pandas as pd\n",
    "import numpy as np\n",
    "import matplotlib.pyplot as plt\n",
    "\n",
    "sql = \"SELECT * FROM rock-finder-project.routes.routes_gold\"\n",
    "p_id=\"rock-finder-project\"\n",
    "df_routes_gold = pandas_gbq.read_gbq(sql, project_id=p_id)\n",
    "df_routes_gold"
   ]
  },
  {
   "cell_type": "code",
   "execution_count": null,
   "id": "241fe01f",
   "metadata": {
    "vscode": {
     "languageId": "plaintext"
    }
   },
   "outputs": [],
   "source": [
    "df_with_weather = df_routes_gold.merge(\n",
    "    weather_df_summary,\n",
    "    on=['area_latitude', 'area_longitude'],  \n",
    "    how='left'        \n",
    ")\n",
    "df_with_weather"
   ]
  },
  {
   "cell_type": "code",
   "execution_count": null,
   "id": "42a73c46",
   "metadata": {
    "vscode": {
     "languageId": "plaintext"
    }
   },
   "outputs": [],
   "source": [
    "df_with_weather = df_with_weather[['key', 'area_latitude', 'area_longitude', 'June 05 2025', 'June 06 2025', 'June 07 2025', 'June 08 2025', 'June 09 2025']]\n",
    "df_with_weather"
   ]
  },
  {
   "cell_type": "code",
   "execution_count": null,
   "id": "97abe653",
   "metadata": {
    "vscode": {
     "languageId": "plaintext"
    }
   },
   "outputs": [],
   "source": [
    "import pandas as pd\n",
    "from pandas_gbq import to_gbq\n",
    "from google.colab import auth\n",
    "\n",
    "# Authenticate with Google account\n",
    "auth.authenticate_user()\n",
    "\n",
    "# Set project and table ID\n",
    "project_id = 'rock-finder-project'\n",
    "table_id = 'routes.df_with_weather'  # dataset.table 형식\n",
    "\n",
    "# Upload dataframe\n",
    "to_gbq(\n",
    "    dataframe=df_with_weather,\n",
    "    destination_table=table_id,\n",
    "    project_id=project_id,\n",
    "    if_exists='fail'  # 또는 'replace' / 'append'\n",
    ")"
   ]
  }
 ],
 "metadata": {
  "language_info": {
   "name": "python"
  }
 },
 "nbformat": 4,
 "nbformat_minor": 5
}
