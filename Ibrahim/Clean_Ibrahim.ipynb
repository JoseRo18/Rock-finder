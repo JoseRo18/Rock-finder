{
 "cells": [
  {
   "cell_type": "code",
   "execution_count": null,
   "id": "936e929b",
   "metadata": {
    "vscode": {
     "languageId": "plaintext"
    }
   },
   "outputs": [],
   "source": [
    "# Authenticate and install\n",
    "from google.colab import auth\n",
    "auth.authenticate_user()\n",
    "\n",
    "!pip install --quiet google-cloud-bigquery pandas\n",
    "\n",
    "#  Imports\n",
    "import pandas as pd\n",
    "import numpy as np\n",
    "from google.cloud import bigquery\n",
    "\n",
    "#  Initialize BigQuery client and load the table into a DataFrame\n",
    "project_id = \"rock-finder-project\"\n",
    "client = bigquery.Client(project=project_id)\n",
    "table_id = \"rock-finder-project.routes.mp_routes\"\n",
    "\n",
    "query = f\"SELECT * FROM `{table_id}`\"\n",
    "df = client.query(query).to_dataframe()\n",
    "\n",
    "#  Split Location into parts (robust to any number of ' > ' levels)\n",
    "location_split = df['Location'].str.split(' > ')\n",
    "\n",
    "#  Extract \"area\", \"region\" (island or subregion), and \"state\" from the last 3 parts\n",
    "df['state'] = location_split.apply(lambda x: x[-1] if len(x) >= 1 else None)\n",
    "df['region'] = location_split.apply(lambda x: x[-2] if len(x) >= 2 else None)\n",
    "df['area'] = location_split.apply(lambda x: x[-3] if len(x) >= 3 else None)\n",
    "\n",
    "#  first/topmost part separately:\n",
    "df['top_level'] = location_split.apply(lambda x: x[0] if len(x) >= 1 else None)\n",
    "\n",
    "# Handle invalid \"Pitches\" and missing \"Length\"\n",
    "df['Pitches'] = df['Pitches'].replace(-1, np.nan)\n",
    "df['Length'] = df['Length'].fillna(df['Length'].median())\n",
    "\n",
    "# Quick sanity check\n",
    "print(df[['Location', 'area', 'region', 'state']].head())\n",
    "print(\"Missing counts:\\n\", df[['area','region','state','Pitches','Length']].isna().sum())"
   ]
  },
  {
   "cell_type": "code",
   "execution_count": null,
   "id": "a8649aba",
   "metadata": {
    "vscode": {
     "languageId": "plaintext"
    }
   },
   "outputs": [],
   "source": [
    "df['desc'] = df['desc'].str.lower()\n",
    "df['protection'] = df['protection'].str.lower()\n",
    "\n",
    "df['desc'] = df['desc'].str.strip()\n",
    "df['protection'] = df['protection'].str.strip()\n",
    "\n",
    "\n",
    "df['desc'] = df['desc'].str.replace(r'\\s+', ' ', regex=True)\n",
    "df['protection'] = df['protection'].str.replace(r'\\s+', ' ', regex=True)\n",
    "\n",
    "df['desc'] = df['desc'].fillna('')\n",
    "df['protection'] = df['protection'].fillna('')\n",
    "\n",
    "import string\n",
    "df['desc'] = df['desc'].str.translate(str.maketrans('', '', string.punctuation))\n",
    "df['protection'] = df['protection'].str.translate(str.maketrans('', '', string.punctuation))\n"
   ]
  }
 ],
 "metadata": {
  "language_info": {
   "name": "python"
  }
 },
 "nbformat": 4,
 "nbformat_minor": 5
}
